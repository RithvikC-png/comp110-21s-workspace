{
 "metadata": {
  "language_info": {
   "codemirror_mode": {
    "name": "ipython",
    "version": 3
   },
   "file_extension": ".py",
   "mimetype": "text/x-python",
   "name": "python",
   "nbconvert_exporter": "python",
   "pygments_lexer": "ipython3",
   "version": "3.9.1-final"
  },
  "orig_nbformat": 2,
  "kernelspec": {
   "name": "python3",
   "display_name": "Python 3.9.1 64-bit",
   "metadata": {
    "interpreter": {
     "hash": "aee8b7b246df8f9039afb4144a1f6fd8d2ca17a180786b69acc140d282b71a49"
    }
   }
  }
 },
 "nbformat": 4,
 "nbformat_minor": 2,
 "cells": [
  {
   "source": [
    "# Quantifying Shakespeare\n",
    "\n",
    "Read the complete work of Shakespeare and count every letter"
   ],
   "cell_type": "markdown",
   "metadata": {}
  },
  {
   "cell_type": "code",
   "execution_count": 1,
   "metadata": {},
   "outputs": [
    {
     "output_type": "execute_result",
     "data": {
      "text/plain": [
       "'124455 lines of text read in'"
      ]
     },
     "metadata": {},
     "execution_count": 1
    }
   ],
   "source": [
    "lines: list[str] = []\n",
    "file_handle = open(\"../data/shakespeare.txt\", \"r\", encoding=\"utf8\")\n",
    "\n",
    "for line in file_handle:\n",
    "    line_lowercase: str = line.lower()\n",
    "    lines.append(line)\n",
    "\n",
    "file_handle.close()\n",
    "f\"{len(lines)} lines of text read in\""
   ]
  },
  {
   "cell_type": "code",
   "execution_count": 3,
   "metadata": {},
   "outputs": [
    {
     "output_type": "stream",
     "name": "stdout",
     "text": [
      "This is the 100th Etext file presented by Project Gutenberg, and\n\n"
     ]
    }
   ],
   "source": [
    "print(lines[0])"
   ]
  },
  {
   "source": [
    "## Count the characters Shakespeare used\n",
    "\n",
    "Use a dictionary, where each key is a letter and each value will be the number of times we encounter that character when processing the lines we just read in."
   ],
   "cell_type": "markdown",
   "metadata": {}
  },
  {
   "cell_type": "code",
   "execution_count": 6,
   "metadata": {},
   "outputs": [
    {
     "output_type": "execute_result",
     "data": {
      "text/plain": [
       "{'T': 39800,\n",
       " 'h': 218406,\n",
       " 'i': 198184,\n",
       " 's': 214978,\n",
       " ' ': 1293934,\n",
       " 't': 289975,\n",
       " 'e': 404621,\n",
       " '1': 928,\n",
       " '0': 299,\n",
       " 'E': 42583,\n",
       " 'x': 4688,\n",
       " 'f': 68803,\n",
       " 'l': 146161,\n",
       " 'p': 46525,\n",
       " 'r': 208894,\n",
       " 'n': 215924,\n",
       " 'd': 133779,\n",
       " 'b': 46543,\n",
       " 'y': 85271,\n",
       " 'P': 11939,\n",
       " 'o': 281391,\n",
       " 'j': 2712,\n",
       " 'c': 66688,\n",
       " 'G': 11164,\n",
       " 'u': 114818,\n",
       " 'g': 57035,\n",
       " ',': 83174,\n",
       " 'a': 244664,\n",
       " '\\n': 124455,\n",
       " 'w': 72894,\n",
       " 'W': 16496,\n",
       " 'L': 23858,\n",
       " 'I': 55806,\n",
       " '.': 78025,\n",
       " 'm': 95580,\n",
       " 'F': 11713,\n",
       " 'S': 34011,\n",
       " 'k': 29212,\n",
       " 'C': 21497,\n",
       " 'D': 15683,\n",
       " 'R': 28970,\n",
       " 'O': 33209,\n",
       " 'M': 15872,\n",
       " 'N': 27338,\n",
       " '!': 8844,\n",
       " '*': 63,\n",
       " '<': 468,\n",
       " 'H': 18462,\n",
       " 'V': 3580,\n",
       " 'K': 6196,\n",
       " 'A': 44486,\n",
       " 'Y': 9099,\n",
       " '9': 948,\n",
       " '-': 8074,\n",
       " '3': 330,\n",
       " 'B': 15413,\n",
       " 'J': 2067,\n",
       " 'U': 14129,\n",
       " 'X': 606,\n",
       " '(': 628,\n",
       " ')': 629,\n",
       " '2': 366,\n",
       " '>': 441,\n",
       " '7': 41,\n",
       " '4': 93,\n",
       " '[': 2085,\n",
       " '#': 1,\n",
       " ']': 2077,\n",
       " 'z': 1099,\n",
       " '8': 40,\n",
       " '@': 8,\n",
       " 'v': 33989,\n",
       " ':': 1827,\n",
       " '=': 1,\n",
       " '%': 1,\n",
       " '\"': 470,\n",
       " '/': 5,\n",
       " '6': 63,\n",
       " '5': 82,\n",
       " \"'\": 31069,\n",
       " ';': 17199,\n",
       " '~': 1,\n",
       " '_': 71,\n",
       " 'q': 2404,\n",
       " 'Q': 1178,\n",
       " '?': 10476,\n",
       " 'Z': 532,\n",
       " '|': 33,\n",
       " '&': 21,\n",
       " '`': 1,\n",
       " '}': 2}"
      ]
     },
     "metadata": {},
     "execution_count": 6
    }
   ],
   "source": [
    "counts: dict[str, int] = {}\n",
    "\n",
    "for line in lines:\n",
    "    for character in line:\n",
    "        if character in counts: # is character a key in the counts dictionary\n",
    "            counts[character] += 1\n",
    "        else:\n",
    "            counts[character] = 1\n",
    "\n",
    "counts"
   ]
  }
 ]
}