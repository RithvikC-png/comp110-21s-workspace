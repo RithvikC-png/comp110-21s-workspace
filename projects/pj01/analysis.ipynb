{
 "metadata": {
  "language_info": {
   "codemirror_mode": {
    "name": "ipython",
    "version": 3
   },
   "file_extension": ".py",
   "mimetype": "text/x-python",
   "name": "python",
   "nbconvert_exporter": "python",
   "pygments_lexer": "ipython3",
   "version": "3.9.1-final"
  },
  "orig_nbformat": 2,
  "kernelspec": {
   "name": "python3",
   "display_name": "Python 3.9.1 64-bit",
   "metadata": {
    "interpreter": {
     "hash": "aee8b7b246df8f9039afb4144a1f6fd8d2ca17a180786b69acc140d282b71a49"
    }
   }
  }
 },
 "nbformat": 4,
 "nbformat_minor": 2,
 "cells": [
  {
   "source": [
    "# PJ01: Analysis of Student Surveys\n",
    "\n",
    "## Question:\n",
    "\n",
    "Do students majoring in a B.S. in Computer Science expect a higher grade in Comp 110 than students majoring in a B.A. in Computer Science and is there a greater variance in expected grade distributions between the two?\n",
    "\n",
    "## Hypothesis: \n",
    "\n",
    "Students majoring in a B.S. in Computer Science will have a higher expected grade than students majoring in a B.A. in Computer Science. I believe that there will also be a greater variance in the expected grades of B.A. students compared to B.S. students\n",
    "\n",
    "## Methodology: \n",
    "\n",
    "1. The expected grades of students with a B.S. and B.A. in Computer Science will be separated into individual lists of strings. \n",
    "\n",
    "2. The expected grades will be assigned numerical equivalents to allow for statistical analysis. To simplify this step each letter grade will be assigned its UNC GPA equivalent (A = 4, B = 3, C = 2, D = 1, F = 0)\n",
    "\n",
    "3. The values will then be averaged to identify the average expected grades of students majoring with a B.S. in Computer Science and a B.A. in Computer Science and see which branch of the major expects to receive a higher score.\n",
    "\n",
    "4. As an addition we will also see the distribution of each letter grade students expected to receive to see if there were any interesting distributions with them or outliers"
   ],
   "cell_type": "markdown",
   "metadata": {}
  },
  {
   "source": [
    "### This is where I will import and read the csv as well as convert it to a column-oriented data table"
   ],
   "cell_type": "markdown",
   "metadata": {}
  },
  {
   "cell_type": "code",
   "execution_count": 439,
   "metadata": {},
   "outputs": [],
   "source": [
    "from data_utils import read_csv_rows, columnar\n",
    "\n",
    "data_rows: list[dict[str, str]] = read_csv_rows('../../data/survey.csv')\n",
    "columns: dict[str, list[str]] = columnar(data_rows)"
   ]
  },
  {
   "source": [
    "### This is where I will import the head and select functions from the data_utils file. I willl then use these functions to iterate through the column header \"comp_major\" and then use the head function to create a table out of the first 10 values of the column to ensure that I am following the correct method"
   ],
   "cell_type": "markdown",
   "metadata": {}
  },
  {
   "cell_type": "code",
   "execution_count": 440,
   "metadata": {},
   "outputs": [
    {
     "output_type": "execute_result",
     "data": {
      "text/plain": [
       "{'comp_major': ['No',\n",
       "  'No',\n",
       "  'No',\n",
       "  'No',\n",
       "  'Yes - BS',\n",
       "  'Yes - Minor',\n",
       "  'No',\n",
       "  'No',\n",
       "  'No',\n",
       "  'No']}"
      ]
     },
     "metadata": {},
     "execution_count": 440
    }
   ],
   "source": [
    "from data_utils import head, select\n",
    "\n",
    "analysis: dict[str, list[str]] = select(columns, [\"comp_major\"])\n",
    "head(analysis, 10)"
   ]
  },
  {
   "source": [
    "### This is where I will create the relationship function to test if the response to major was B.S. in Computer Science or a B.A. in Computer Science"
   ],
   "cell_type": "markdown",
   "metadata": {}
  },
  {
   "cell_type": "code",
   "execution_count": 441,
   "metadata": {},
   "outputs": [],
   "source": [
    "def B_S(col: list[str], comparision: str) -> list[bool]:\n",
    "    result_BS: list[bool] = []\n",
    "    for item in col:\n",
    "        result_BS.append(item == comparision)\n",
    "    \n",
    "    return result_BS\n",
    "\n",
    "B_S_majors: list[bool] = B_S(analysis[\"comp_major\"], \"Yes - BS\")\n",
    "\n",
    "def B_A(col: list[str], comparision: str) -> list[bool]:\n",
    "    result_BA: list[bool] = []\n",
    "    for item in col:\n",
    "        result_BA.append(item == comparision)\n",
    "    \n",
    "    return result_BA\n",
    "\n",
    "B_A_majors: list[bool] = B_A(analysis[\"comp_major\"], \"Yes - BA\")"
   ]
  },
  {
   "source": [
    "### This is where I will create a list of the expected grades by students that are getting a BS and BA in Comp Sci separated into different lists"
   ],
   "cell_type": "markdown",
   "metadata": {}
  },
  {
   "cell_type": "code",
   "execution_count": 442,
   "metadata": {},
   "outputs": [],
   "source": [
    "def masked_BS(col: list[float], mask: list[bool]) -> list[str]:\n",
    "    result_BS_mask: list[float] = []\n",
    "    for i in range(len(mask)):\n",
    "        if mask[i]:\n",
    "            result_BS_mask.append(col[i])\n",
    "    return result_BS_mask\n",
    "\n",
    "\n",
    "def masked_BA(col: list[float], mask: list[bool]) -> list[str]:\n",
    "    result_BA_mask: list[float] = []\n",
    "    for i in range(len(mask)):\n",
    "        if mask[i]:\n",
    "            result_BA_mask.append(col[i])\n",
    "    return result_BA_mask\n",
    "\n",
    "\n",
    "masked_list_BS: list[str] = masked_BS(columns[\"grade\"], B_S_majors)\n",
    "masked_list_BA: list[str] = masked_BA(columns[\"grade\"], B_A_majors)"
   ]
  },
  {
   "source": [
    "### This is where I will convert the letter grades into numbers to make it possible to calculate the average expected grades"
   ],
   "cell_type": "markdown",
   "metadata": {}
  },
  {
   "cell_type": "code",
   "execution_count": 443,
   "metadata": {},
   "outputs": [],
   "source": [
    "def numberize_BS(masked: list[str]) -> list[int]:\n",
    "    values_BS: list[int] = []\n",
    "    for i in range(len(masked)):\n",
    "        if masked[i] == \"A\":\n",
    "            values_BS.append(4)\n",
    "        elif masked[i] == \"B\":\n",
    "            values_BS.append(3)\n",
    "        elif masked[i] == \"C\":\n",
    "            values_BS.append(2)\n",
    "        elif masked[i] == \"D\":\n",
    "            values_BS.append(1)\n",
    "        else:\n",
    "            values_BS.append(0)\n",
    "    return values_BS\n",
    "\n",
    "\n",
    "def numberize_BA(masked: list[str]) -> list[int]:\n",
    "    values_BA: list[int] = []\n",
    "    for i in range(len(masked)):\n",
    "        if masked[i] == \"A\":\n",
    "            values_BA.append(4)\n",
    "        elif masked[i] == \"B\":\n",
    "            values_BA.append(3)\n",
    "        elif masked[i] == \"C\":\n",
    "            values_BA.append(2)\n",
    "        elif masked[i] == \"D\":\n",
    "            values_BA.append(1)\n",
    "        else:\n",
    "            values_BA.append(0)\n",
    "    return values_BA\n",
    "\n",
    "B_S_numbers: list[int] = numberize_BS(masked_list_BS)\n",
    "B_A_numbers: list[int] = numberize_BA(masked_list_BA)"
   ]
  },
  {
   "source": [
    "### This is where I will average the numbers in each to find the mean of the entries in each list"
   ],
   "cell_type": "markdown",
   "metadata": {}
  },
  {
   "cell_type": "code",
   "execution_count": 444,
   "metadata": {},
   "outputs": [
    {
     "output_type": "stream",
     "name": "stdout",
     "text": [
      "The average expected grade for BS majors is: 3.5\nThe average expected grade for BA majors is: 3.35\n"
     ]
    }
   ],
   "source": [
    "Sum_BS: int = 0\n",
    "Sum_BA: int = 0\n",
    "for item in B_S_numbers:\n",
    "    Sum_BS += item\n",
    "    mean_BS = round(Sum_BS / len(B_S_numbers),2)\n",
    "\n",
    "for item in B_A_numbers:\n",
    "    Sum_BA += item\n",
    "    mean_BA = round(Sum_BA / len(B_A_numbers),2)\n",
    "\n",
    "print(f\"The average expected grade for BS majors is: {mean_BS}\")\n",
    "print(f\"The average expected grade for BA majors is: {mean_BA}\")"
   ]
  },
  {
   "source": [
    "### This is where we will find the distribution of expected letter grades by students from each major to see if there was a significant difference in the variance between the two majors"
   ],
   "cell_type": "markdown",
   "metadata": {}
  },
  {
   "cell_type": "code",
   "execution_count": 445,
   "metadata": {},
   "outputs": [
    {
     "output_type": "stream",
     "name": "stdout",
     "text": [
      "{'A': 33, 'B': 24, 'C': 3}\n{'A': 22, 'B': 19, 'C': 4, 'D': 1}\n"
     ]
    }
   ],
   "source": [
    "from data_utils import count\n",
    "\n",
    "count_BS: dict[str, int] = count(masked_list_BS)\n",
    "count_BA: dict[str, int] = count(masked_list_BA)\n",
    "dist_BS: dict[ str, int] = []\n",
    "dist_BA: dict[str, int] = []\n",
    "\n",
    "print(count_BS)\n",
    "print(count_BA)"
   ]
  },
  {
   "source": [
    "# Conclusion:\n",
    "\n",
    "### We can see from this analysis that students in Comp 110 majoring in a B.S. in Computer Science on average expect to get a grade that is 0.15 GPA points higher than students in Comp 110 majoring in a B.A. in Computer Science. We can also see that students were more likely to expect an 'A' when they were majoring in a B.S. in Computer Science than a B.A. in Computer Science and those working towards a B.A. in Computer Science also had one outlier in someone expecting a 'D' grade which does not exist among those working towards a B.S. in computer science."
   ],
   "cell_type": "markdown",
   "metadata": {}
  },
  {
   "source": [
    "# Visuals"
   ],
   "cell_type": "markdown",
   "metadata": {}
  },
  {
   "cell_type": "code",
   "execution_count": null,
   "metadata": {},
   "outputs": [],
   "source": []
  }
 ]
}