{
 "metadata": {
  "language_info": {
   "codemirror_mode": {
    "name": "ipython",
    "version": 3
   },
   "file_extension": ".py",
   "mimetype": "text/x-python",
   "name": "python",
   "nbconvert_exporter": "python",
   "pygments_lexer": "ipython3",
   "version": "3.9.1-final"
  },
  "orig_nbformat": 2,
  "kernelspec": {
   "name": "python3",
   "display_name": "Python 3.9.1 64-bit",
   "metadata": {
    "interpreter": {
     "hash": "aee8b7b246df8f9039afb4144a1f6fd8d2ca17a180786b69acc140d282b71a49"
    }
   }
  }
 },
 "nbformat": 4,
 "nbformat_minor": 2,
 "cells": [
  {
   "source": [
    "# PJ01: Analysis of Student Surveys\n",
    "\n",
    "## Hypothesis: \n",
    "\n",
    "Students majoring in a B.S. in Computer Science will have a higher expected grade than students majoring in a B.A. in Computer Science.\n",
    "\n",
    "## Methodology: \n",
    "\n",
    "1. The expected grades of students with a B.S. and B.A. in Computer Science will be separated into individual lists of strings. \n",
    "\n",
    "2. The expected grades will be assigned numerical equivalents to allow for statistical analysis. To simplify this step each letter grade will be assigned its UNC GPA equivalent (A = 4, B = 3, C = 2, D = 1, F = 0)\n",
    "\n",
    "3. The values will then be averaged to identify the average expected grades of students majoring with a B.S. in Computer Science and a B.A. in Computer Science and see which branch of the major expects to receive a higher score."
   ],
   "cell_type": "markdown",
   "metadata": {}
  },
  {
   "cell_type": "code",
   "execution_count": 4,
   "metadata": {},
   "outputs": [],
   "source": [
    "# Importation of data block\n",
    "\n",
    "%reload_ext autoreload\n",
    "%autoreload 2\n",
    "\n",
    "DATA_DIRECTORY=\"../../data\"\n",
    "DATA_FILE_PATH=f\"{DATA_DIRECTORY}/survey.csv\"\n",
    "\n",
    "from data_utils import read_csv_rows\n",
    "\n",
    "data_rows: list[dict[str, str]] = read_csv_rows(DATA_FILE_PATH)"
   ]
  },
  {
   "cell_type": "code",
   "execution_count": null,
   "metadata": {},
   "outputs": [],
   "source": []
  }
 ]
}